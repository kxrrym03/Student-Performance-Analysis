{
 "cells": [
  {
   "cell_type": "code",
   "execution_count": 2,
   "id": "e922568a-7580-4967-bdf4-3607737f2658",
   "metadata": {},
   "outputs": [
    {
     "name": "stdout",
     "output_type": "stream",
     "text": [
      "(666, 12)\n"
     ]
    },
    {
     "data": {
      "text/html": [
       "<div>\n",
       "<style scoped>\n",
       "    .dataframe tbody tr th:only-of-type {\n",
       "        vertical-align: middle;\n",
       "    }\n",
       "\n",
       "    .dataframe tbody tr th {\n",
       "        vertical-align: top;\n",
       "    }\n",
       "\n",
       "    .dataframe thead th {\n",
       "        text-align: right;\n",
       "    }\n",
       "</style>\n",
       "<table border=\"1\" class=\"dataframe\">\n",
       "  <thead>\n",
       "    <tr style=\"text-align: right;\">\n",
       "      <th></th>\n",
       "      <th>Gender</th>\n",
       "      <th>Caste</th>\n",
       "      <th>coaching</th>\n",
       "      <th>Class_ten_education</th>\n",
       "      <th>twelve_education</th>\n",
       "      <th>medium</th>\n",
       "      <th>Class_X_Percentage</th>\n",
       "      <th>Class_XII_Percentage</th>\n",
       "      <th>Father_occupation</th>\n",
       "      <th>Mother_occupation</th>\n",
       "      <th>time</th>\n",
       "      <th>Performance</th>\n",
       "    </tr>\n",
       "  </thead>\n",
       "  <tbody>\n",
       "    <tr>\n",
       "      <th>0</th>\n",
       "      <td>male</td>\n",
       "      <td>General</td>\n",
       "      <td>NO</td>\n",
       "      <td>SEBA</td>\n",
       "      <td>AHSEC</td>\n",
       "      <td>ENGLISH</td>\n",
       "      <td>Excellent</td>\n",
       "      <td>Excellent</td>\n",
       "      <td>DOCTOR</td>\n",
       "      <td>OTHERS</td>\n",
       "      <td>ONE</td>\n",
       "      <td>Excellent</td>\n",
       "    </tr>\n",
       "    <tr>\n",
       "      <th>1</th>\n",
       "      <td>male</td>\n",
       "      <td>OBC</td>\n",
       "      <td>WA</td>\n",
       "      <td>SEBA</td>\n",
       "      <td>AHSEC</td>\n",
       "      <td>OTHERS</td>\n",
       "      <td>Excellent</td>\n",
       "      <td>Excellent</td>\n",
       "      <td>SCHOOL_TEACHER</td>\n",
       "      <td>HOUSE_WIFE</td>\n",
       "      <td>TWO</td>\n",
       "      <td>Excellent</td>\n",
       "    </tr>\n",
       "    <tr>\n",
       "      <th>2</th>\n",
       "      <td>male</td>\n",
       "      <td>OBC</td>\n",
       "      <td>OA</td>\n",
       "      <td>OTHERS</td>\n",
       "      <td>CBSE</td>\n",
       "      <td>ENGLISH</td>\n",
       "      <td>Excellent</td>\n",
       "      <td>Excellent</td>\n",
       "      <td>BUSINESS</td>\n",
       "      <td>HOUSE_WIFE</td>\n",
       "      <td>TWO</td>\n",
       "      <td>Excellent</td>\n",
       "    </tr>\n",
       "    <tr>\n",
       "      <th>3</th>\n",
       "      <td>male</td>\n",
       "      <td>General</td>\n",
       "      <td>WA</td>\n",
       "      <td>SEBA</td>\n",
       "      <td>AHSEC</td>\n",
       "      <td>OTHERS</td>\n",
       "      <td>Excellent</td>\n",
       "      <td>Excellent</td>\n",
       "      <td>SCHOOL_TEACHER</td>\n",
       "      <td>SCHOOL_TEACHER</td>\n",
       "      <td>ONE</td>\n",
       "      <td>Excellent</td>\n",
       "    </tr>\n",
       "    <tr>\n",
       "      <th>4</th>\n",
       "      <td>male</td>\n",
       "      <td>General</td>\n",
       "      <td>OA</td>\n",
       "      <td>SEBA</td>\n",
       "      <td>CBSE</td>\n",
       "      <td>ENGLISH</td>\n",
       "      <td>Excellent</td>\n",
       "      <td>Excellent</td>\n",
       "      <td>COLLEGE_TEACHER</td>\n",
       "      <td>HOUSE_WIFE</td>\n",
       "      <td>TWO</td>\n",
       "      <td>Excellent</td>\n",
       "    </tr>\n",
       "  </tbody>\n",
       "</table>\n",
       "</div>"
      ],
      "text/plain": [
       "  Gender    Caste coaching Class_ten_education twelve_education   medium  \\\n",
       "0   male  General       NO                SEBA            AHSEC  ENGLISH   \n",
       "1   male      OBC       WA                SEBA            AHSEC   OTHERS   \n",
       "2   male      OBC       OA              OTHERS             CBSE  ENGLISH   \n",
       "3   male  General       WA                SEBA            AHSEC   OTHERS   \n",
       "4   male  General       OA                SEBA             CBSE  ENGLISH   \n",
       "\n",
       "  Class_X_Percentage Class_XII_Percentage Father_occupation Mother_occupation  \\\n",
       "0          Excellent            Excellent            DOCTOR            OTHERS   \n",
       "1          Excellent            Excellent    SCHOOL_TEACHER        HOUSE_WIFE   \n",
       "2          Excellent            Excellent          BUSINESS        HOUSE_WIFE   \n",
       "3          Excellent            Excellent    SCHOOL_TEACHER    SCHOOL_TEACHER   \n",
       "4          Excellent            Excellent   COLLEGE_TEACHER        HOUSE_WIFE   \n",
       "\n",
       "  time Performance  \n",
       "0  ONE   Excellent  \n",
       "1  TWO   Excellent  \n",
       "2  TWO   Excellent  \n",
       "3  ONE   Excellent  \n",
       "4  TWO   Excellent  "
      ]
     },
     "execution_count": 2,
     "metadata": {},
     "output_type": "execute_result"
    }
   ],
   "source": [
    "import numpy as np\n",
    "import pandas as pd\n",
    "import matplotlib.pyplot as plt\n",
    "from sklearn.model_selection import train_test_split\n",
    "from sklearn.linear_model import LinearRegression\n",
    "from sklearn.metrics import mean_squared_error, mean_absolute_error,r2_score\n",
    "import warnings\n",
    "warnings.filterwarnings('ignore')\n",
    "import seaborn as sns\n",
    "from sklearn.preprocessing import StandardScaler\n",
    "\n",
    "data = pd.read_csv(r'C:\\Users\\Kerry\\Student_Performance_on_an_Entrance_Examination.csv')\n",
    "print(data.shape)\n",
    "data.head()"
   ]
  },
  {
   "cell_type": "code",
   "execution_count": 3,
   "id": "5a12b3f9-de77-4f9e-a0bd-c40b01310ee6",
   "metadata": {},
   "outputs": [
    {
     "data": {
      "text/plain": [
       "44"
      ]
     },
     "execution_count": 3,
     "metadata": {},
     "output_type": "execute_result"
    }
   ],
   "source": [
    "data.duplicated().sum()"
   ]
  },
  {
   "cell_type": "code",
   "execution_count": 4,
   "id": "856f30e1-161e-4b53-a2c8-cf4f6cf17e47",
   "metadata": {},
   "outputs": [],
   "source": [
    "data =  data.drop_duplicates()"
   ]
  },
  {
   "cell_type": "code",
   "execution_count": 5,
   "id": "b62ac341-436d-4f8a-b0b0-e8d12c95fc77",
   "metadata": {},
   "outputs": [
    {
     "data": {
      "text/plain": [
       "Gender                  0\n",
       "Caste                   0\n",
       "coaching                0\n",
       "Class_ten_education     0\n",
       "twelve_education        0\n",
       "medium                  0\n",
       "Class_X_Percentage      0\n",
       "Class_XII_Percentage    0\n",
       "Father_occupation       0\n",
       "Mother_occupation       0\n",
       "time                    0\n",
       "Performance             0\n",
       "dtype: int64"
      ]
     },
     "execution_count": 5,
     "metadata": {},
     "output_type": "execute_result"
    }
   ],
   "source": [
    "data.isnull().sum()"
   ]
  },
  {
   "cell_type": "code",
   "execution_count": 6,
   "id": "2ff82f25-ce8b-417d-b2c4-59e737e0c42d",
   "metadata": {},
   "outputs": [],
   "source": [
    "# Convert categorical values to numbers\n",
    "ordinal_mapping = {'Average': 4, 'Good': 3, 'Vg': 2, 'Excellent': 1}\n",
    "data['Class_X_Percentage'] = data['Class_X_Percentage'].map(ordinal_mapping)\n",
    "data['Class_XII_Percentage'] = data['Class_XII_Percentage'].map(ordinal_mapping)\n",
    "data['Performance'] = data['Performance'].map(ordinal_mapping)"
   ]
  },
  {
   "cell_type": "code",
   "execution_count": 8,
   "id": "0560101d-34cd-4f0a-bea5-32b8f705977e",
   "metadata": {},
   "outputs": [],
   "source": [
    "# Label encoding categorical values\n",
    "from sklearn.preprocessing import LabelEncoder\n",
    "label_encoders = {}\n",
    "categorical_cols = ['Gender', 'Caste', 'coaching', 'Class_ten_education', 'twelve_education', \n",
    "                    'medium', 'Father_occupation', 'Mother_occupation', 'time', 'Performance']\n",
    "\n",
    "for col in categorical_cols:\n",
    "    le = LabelEncoder()\n",
    "    data[col] = le.fit_transform(data[col])\n",
    "    label_encoders[col] = le "
   ]
  },
  {
   "cell_type": "code",
   "execution_count": 9,
   "id": "ad1aca3e-11ce-4ade-95ba-f8dbd0561383",
   "metadata": {},
   "outputs": [
    {
     "name": "stdout",
     "output_type": "stream",
     "text": [
      "   Gender  Caste  coaching  Class_ten_education  twelve_education  medium  \\\n",
      "0       1      0         0                    2                 0       1   \n",
      "1       1      1         2                    2                 0       2   \n",
      "2       1      1         1                    1                 1       1   \n",
      "3       1      0         2                    2                 0       2   \n",
      "4       1      0         1                    2                 1       1   \n",
      "\n",
      "   Class_X_Percentage  Class_XII_Percentage  Father_occupation  \\\n",
      "0                   1                     1                  4   \n",
      "1                   1                     1                  7   \n",
      "2                   1                     1                  1   \n",
      "3                   1                     1                  7   \n",
      "4                   1                     1                  2   \n",
      "\n",
      "   Mother_occupation  time  Performance  \n",
      "0                  7     2            0  \n",
      "1                  6     5            0  \n",
      "2                  6     5            0  \n",
      "3                  8     2            0  \n",
      "4                  6     5            0  \n"
     ]
    }
   ],
   "source": [
    "print(data.head())"
   ]
  },
  {
   "cell_type": "code",
   "execution_count": 11,
   "id": "3b9cc930-8b2c-4722-b260-dce91aeb1cc8",
   "metadata": {},
   "outputs": [
    {
     "name": "stdout",
     "output_type": "stream",
     "text": [
      "Mean Squared Error: 0.55\n",
      "Mean Absolute Error: 0.59\n",
      "R² Score: 0.45\n"
     ]
    }
   ],
   "source": [
    "# Predicting performance\n",
    "X = data.drop(columns=['Performance'])\n",
    "y = data['Performance']\n",
    "X_train, X_test, y_train, y_test = train_test_split(X, y, test_size=0.2, random_state=42)\n",
    "\n",
    "scaler = StandardScaler()\n",
    "X_train = scaler.fit_transform(X_train)\n",
    "X_test = scaler.transform(X_test)\n",
    "\n",
    "model = LinearRegression()\n",
    "model.fit(X_train, y_train)\n",
    "\n",
    "y_pred = model.predict(X_test)\n",
    "mse = mean_squared_error(y_test, y_pred)\n",
    "mae = mean_absolute_error(y_test, y_pred)\n",
    "r2 = r2_score(y_test, y_pred)\n",
    "\n",
    "print(f'Mean Squared Error: {mse:.2f}')\n",
    "print(f'Mean Absolute Error: {mae:.2f}')\n",
    "print(f'R² Score: {r2:.2f}')"
   ]
  },
  {
   "cell_type": "code",
   "execution_count": 12,
   "id": "b0c6b9dc-c34b-4fff-8674-bc8869c89df6",
   "metadata": {},
   "outputs": [
    {
     "data": {
      "image/png": "[encoded data removed]",
      "text/plain": [
       "<Figure size 640x480 with 1 Axes>"
      ]
     },
     "metadata": {},
     "output_type": "display_data"
    }
   ],
   "source": [
    "plt.scatter(y_test, y_pred, color='blue', alpha=0.5)\n",
    "plt.xlabel(\"Actual Performance\")\n",
    "plt.ylabel(\"Predicted Performance\")\n",
    "plt.title(\"Actual vs Predicted Performance\")\n",
    "plt.show()"
   ]
  },
  {
   "cell_type": "code",
   "execution_count": null,
   "id": "68ecc5af-f62b-48c8-a925-288e28f57918",
   "metadata": {},
   "outputs": [],
   "source": []
  }
 ],
 "metadata": {
  "kernelspec": {
   "display_name": "Python 3 (ipykernel)",
   "language": "python",
   "name": "python3"
  },
  "language_info": {
   "codemirror_mode": {
    "name": "ipython",
    "version": 3
   },
   "file_extension": ".py",
   "mimetype": "text/x-python",
   "name": "python",
   "nbconvert_exporter": "python",
   "pygments_lexer": "ipython3",
   "version": "3.12.7"
  }
 },
 "nbformat": 4,
 "nbformat_minor": 5
}
